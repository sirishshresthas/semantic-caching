{
 "cells": [
  {
   "cell_type": "code",
   "execution_count": 1,
   "metadata": {},
   "outputs": [],
   "source": [
    "from semantic_caching import SemanticCaching"
   ]
  },
  {
   "cell_type": "code",
   "execution_count": 2,
   "metadata": {},
   "outputs": [
    {
     "name": "stdout",
     "output_type": "stream",
     "text": [
      "[INFO] Initializing mongodb.....  complete (0.1956s)\n"
     ]
    }
   ],
   "source": [
    "cache = SemanticCaching()"
   ]
  },
  {
   "cell_type": "code",
   "execution_count": 3,
   "metadata": {},
   "outputs": [
    {
     "name": "stdout",
     "output_type": "stream",
     "text": [
      "[INFO] Initializing encoder... complete (2.4045s)\n",
      "[INFO] Initializing Qdrant vector db.....  complete (0.5873s)\n"
     ]
    }
   ],
   "source": [
    "cache.init_vector_db()"
   ]
  },
  {
   "cell_type": "code",
   "execution_count": 4,
   "metadata": {},
   "outputs": [
    {
     "name": "stdout",
     "output_type": "stream",
     "text": [
      "CUDA is not available for this device. Defaulting to ARES API.\n",
      "[INFO] Searching for the answer in Qdrant. complete (0.0651s)\n",
      "[INFO] Retrieving from cache ...  complete (0.0004s)\n"
     ]
    },
    {
     "data": {
      "text/plain": [
       "'The first country created in the world is Egypt.'"
      ]
     },
     "execution_count": 4,
     "metadata": {},
     "output_type": "execute_result"
    }
   ],
   "source": [
    "question = 'Which one is the first country created in the world?'\n",
    "cache.ask(question, use_llm=False)"
   ]
  },
  {
   "cell_type": "code",
   "execution_count": 6,
   "metadata": {},
   "outputs": [
    {
     "name": "stdout",
     "output_type": "stream",
     "text": [
      "CUDA is not available for this device. Defaulting to ARES API.\n",
      "[INFO] Searching for the answer in Qdrant. complete (0.1345s)\n",
      "[INFO] Retrieving from cache ...  complete (0.0004s)\n"
     ]
    },
    {
     "data": {
      "text/plain": [
       "\"The distance from Earth to Mars can vary depending on the positions of the two planets in their orbits. On average, the distance is about 140 million miles (225 million km) from Earth to Mars. However, the distance can range from 33.9 million miles (54.6 million km) to 250 million miles (401 million km). The minimum distance between Earth and Mars is about 33.9 million miles (54.6 million kilometers), while the maximum distance can be up to 250 million miles (401 million kilometers). \\n\\nSources:\\n- Study.com: [Distance from Earth to Mars | Facts & Measurement](https://study.com/academy/lesson/mars-distance-earth-fact-measurement.html)\\n- NASA: [Hazard: Distance From Earth](https://www.nasa.gov/hrp/hazard-distance-from-earth/)\\n- Space.com: [Distance to Mars: How far away is the Red Planet?](https://www.space.com/16875-how-far-away-is-mars.html)\\n- TheSkyLive: [How Far Away Is Mars?](https://theskylive.com/how-far-is-mars)\\n- Mars.nasa.gov: [Mars Close Approach | Mars in our Night Sky](https://mars.nasa.gov/all-about-mars/night-sky/close-approach/)\\n- LoveTheNightSky.com: [How Far Away is Mars? And How Long to Travel There?](https://lovethenightsky.com/how-far-away-is-mars/)\\n- Heads Up by Scout Life: [How Far Away From Earth Is Mars?](https://headsup.scoutlife.org/how-far-away-from-earth-is-mars/)\\n- Thrillist: [Here's How Far Mars Is from Earth & How Long It Takes to Get There](https://www.thrillist.com/news/nation/how-far-is-mars-from-earth)\\n- Orbital Today: [How far away is Mars from Earth and how long will it take to get there](https://orbitaltoday.com/2022/08/12/the-mystery-of-the-red-planet-how-far-away-is-mars-from-earth-and-how-long-will-it-take-to-get-there/)\\n- Technology.org: [What is the Distance from Earth to Mars?](https://www.technology.org/2022/12/06/distance-earth-mars/)\\n- Starlust.org: [How Far Away Is Mars Now? Real-Time Distance](https://starlust.org/how-far-away-is-mars-now/)\\n- NAOJ: [Mars Makes its Closest Approach to Earth](https://www.nao.ac.jp/en/astro/sky/2016/05-topics03.html)\\n- Universe Today: [How Far is Mars from Earth?](https://www.universetoday.com/14824/distance-from-earth-to-mars/)\\n- Astronomy.com: [Mars: Size, distance from the Sun, orbit](https://www.astronomy.com/science/mars/)\\n- CK-12 Foundation: [Flexi answers - How far away is Mars from Earth?](https://www.ck12.org/flexi/earth-science/planets-of-the-solar-system/how-far-away-is-mars-from-earth/)\\n- Quora: [What is the distance between Earth and Mars at their closest](https://www.quora.com/What-is-the-distance-between-Earth-and-Mars-at-their-closest-approach-in-terms-of-miles-and-kilometers)\\n- Quora: [What is the distance between Earth and Mars in kilometres?](https://www.quora.com/What-is-the-distance-between-Earth-and-Mars-in-kilometres)\""
      ]
     },
     "execution_count": 6,
     "metadata": {},
     "output_type": "execute_result"
    }
   ],
   "source": [
    "question = 'How far is the Earth from Mars?'\n",
    "cache.ask(question, use_llm=True)"
   ]
  },
  {
   "cell_type": "markdown",
   "metadata": {},
   "source": [
    "## Test with custom RAG architecture"
   ]
  },
  {
   "cell_type": "code",
   "execution_count": null,
   "metadata": {},
   "outputs": [],
   "source": [
    "from sentence_transformers import SentenceTransformer\n",
    "encoder = SentenceTransformer('all-mpnet-base-v2')"
   ]
  },
  {
   "cell_type": "code",
   "execution_count": null,
   "metadata": {},
   "outputs": [],
   "source": [
    "question = 'who are the speakers'\n",
    "encoding = encoder.encode(question)"
   ]
  },
  {
   "cell_type": "code",
   "execution_count": null,
   "metadata": {},
   "outputs": [],
   "source": [
    "# Pinecone\n",
    "from pinecone import Pinecone\n",
    "import os\n",
    "pc = Pinecone(api_key=os.environ[\"PINECONE_API_KEY\"])"
   ]
  },
  {
   "cell_type": "code",
   "execution_count": null,
   "metadata": {},
   "outputs": [],
   "source": [
    "index_name = 'webinar-transcript'\n",
    "index = pc.Index(index_name)\n",
    "\n",
    "res = index.query(vector=encoding, top_k=10)\n",
    "print(res)"
   ]
  }
 ],
 "metadata": {
  "kernelspec": {
   "display_name": "Python 3 (ipykernel)",
   "language": "python",
   "name": "python3"
  },
  "language_info": {
   "codemirror_mode": {
    "name": "ipython",
    "version": 3
   },
   "file_extension": ".py",
   "mimetype": "text/x-python",
   "name": "python",
   "nbconvert_exporter": "python",
   "pygments_lexer": "ipython3",
   "version": "3.11.0"
  }
 },
 "nbformat": 4,
 "nbformat_minor": 4
}
