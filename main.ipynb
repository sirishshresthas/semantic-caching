{
 "cells": [
  {
   "cell_type": "code",
   "execution_count": 1,
   "metadata": {},
   "outputs": [],
   "source": [
    "from semantic_caching.core import SemanticCaching"
   ]
  },
  {
   "cell_type": "code",
   "execution_count": 2,
   "metadata": {},
   "outputs": [
    {
     "name": "stdout",
     "output_type": "stream",
     "text": [
      "[INFO] Initializing mongodb.....  complete (0.14s)\n"
     ]
    }
   ],
   "source": [
    "cache = SemanticCaching()"
   ]
  },
  {
   "cell_type": "code",
   "execution_count": 3,
   "metadata": {},
   "outputs": [
    {
     "name": "stdout",
     "output_type": "stream",
     "text": [
      "[INFO] Initializing encoder... complete (2.77s)\n",
      "[INFO] Initializing Qdrant vector db.....  complete (0.12s)\n"
     ]
    }
   ],
   "source": [
    "cache.init_vector_db()"
   ]
  },
  {
   "cell_type": "code",
   "execution_count": 4,
   "metadata": {},
   "outputs": [
    {
     "data": {
      "application/vnd.jupyter.widget-view+json": {
       "model_id": "77a6dfd0c7694203b4bb6885b6b21cc6",
       "version_major": 2,
       "version_minor": 0
      },
      "text/plain": [
       "Batches:   0%|          | 0/1 [00:00<?, ?it/s]"
      ]
     },
     "metadata": {},
     "output_type": "display_data"
    },
    {
     "name": "stdout",
     "output_type": "stream",
     "text": [
      "[INFO] Searching for the answer in Qdrant. complete (0.07s)\n",
      "[INFO] Retrieving from cache ...  complete (0.0s)\n"
     ]
    },
    {
     "data": {
      "text/plain": [
       "'The answer to the question \"How old is Nepal?\" is that very little is known about the early history of Nepal, but legends and documented references reach far back to the 30th century BC. You can find more information on the history of Nepal on the Wikipedia page titled \"History of Nepal.\"'"
      ]
     },
     "execution_count": 4,
     "metadata": {},
     "output_type": "execute_result"
    }
   ],
   "source": [
    "question = 'How wold is the Nepal'\n",
    "cache.ask(question, use_llm=True)"
   ]
  },
  {
   "cell_type": "code",
   "execution_count": 5,
   "metadata": {},
   "outputs": [
    {
     "data": {
      "application/vnd.jupyter.widget-view+json": {
       "model_id": "6638e97c36e94df99457c5a415725691",
       "version_major": 2,
       "version_minor": 0
      },
      "text/plain": [
       "Batches:   0%|          | 0/1 [00:00<?, ?it/s]"
      ]
     },
     "metadata": {},
     "output_type": "display_data"
    },
    {
     "name": "stdout",
     "output_type": "stream",
     "text": [
      "[INFO] Searching for the answer in Qdrant. complete (2.45s)\n",
      "[INFO] Retrieving from cache ...  complete (0.0s)\n"
     ]
    },
    {
     "data": {
      "text/plain": [
       "'The Moon is approximately 238,900 miles away from the Earth.'"
      ]
     },
     "execution_count": 5,
     "metadata": {},
     "output_type": "execute_result"
    }
   ],
   "source": [
    "question = 'How far is the Earth from Mars?'\n",
    "cache.ask(question, use_llm=True)"
   ]
  }
 ],
 "metadata": {
  "kernelspec": {
   "display_name": "Python 3 (ipykernel)",
   "language": "python",
   "name": "python3"
  },
  "language_info": {
   "codemirror_mode": {
    "name": "ipython",
    "version": 3
   },
   "file_extension": ".py",
   "mimetype": "text/x-python",
   "name": "python",
   "nbconvert_exporter": "python",
   "pygments_lexer": "ipython3",
   "version": "3.11.0"
  }
 },
 "nbformat": 4,
 "nbformat_minor": 4
}
